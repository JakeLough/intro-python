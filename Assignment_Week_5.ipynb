{
  "nbformat": 4,
  "nbformat_minor": 0,
  "metadata": {
    "colab": {
      "name": "Assignment Week 5.ipynb",
      "provenance": [],
      "authorship_tag": "ABX9TyPX7aPId1jE7vxalgZYR4Y1",
      "include_colab_link": true
    },
    "kernelspec": {
      "name": "python3",
      "display_name": "Python 3"
    }
  },
  "cells": [
    {
      "cell_type": "markdown",
      "metadata": {
        "id": "view-in-github",
        "colab_type": "text"
      },
      "source": [
        "<a href=\"https://colab.research.google.com/github/JakeLough/intro-python/blob/master/Assignment_Week_5.ipynb\" target=\"_parent\"><img src=\"https://colab.research.google.com/assets/colab-badge.svg\" alt=\"Open In Colab\"/></a>"
      ]
    },
    {
      "cell_type": "code",
      "metadata": {
        "id": "0PuSkIKA326m",
        "colab_type": "code",
        "colab": {}
      },
      "source": [
        "#1\n",
        "def day_of_the_week (num):\n",
        "  num = int(num)\n",
        "  if num == 1:\n",
        "    return \"Wednesday\"\n",
        "  if num == 2:\n",
        "    return \"Thursday\"\n",
        "  if num == 3:\n",
        "    return \"Friday\"\n",
        "  if num == 4:\n",
        "    return \"Saturday\"\n",
        "  if num == 5:\n",
        "    return \"Sunday\"\n",
        "  if num == 6:\n",
        "    return \"Monday\"\n",
        "  if num == 7:\n",
        "    return \"Tuesday\""
      ],
      "execution_count": 2,
      "outputs": []
    },
    {
      "cell_type": "code",
      "metadata": {
        "id": "mJcJtAK-5DIk",
        "colab_type": "code",
        "colab": {}
      },
      "source": [
        "#2\n",
        "def jan_day (num):\n",
        "  while num > 7:\n",
        "    num = num - 7\n",
        "  if num == 1:\n",
        "    return \"Wednesday\"\n",
        "  if num == 2:\n",
        "    return \"Thursday\"\n",
        "  if num == 3:\n",
        "    return \"Friday\"\n",
        "  if num == 4:\n",
        "    return \"Saturday\"\n",
        "  if num == 5:\n",
        "    return \"Sunday\"\n",
        "  if num == 6:\n",
        "    return \"Monday\"\n",
        "  if num == 7:\n",
        "    return \"Tuesday\""
      ],
      "execution_count": 7,
      "outputs": []
    },
    {
      "cell_type": "code",
      "metadata": {
        "id": "F_ekA1p26kuR",
        "colab_type": "code",
        "colab": {}
      },
      "source": [
        "#3\n",
        "def number_to_day (x):\n",
        "  while x > 7:\n",
        "    x = x - 7\n",
        "  if x == 1:\n",
        "    return \"Wednesday\"\n",
        "  if x == 2:\n",
        "    return \"Thursday\"\n",
        "  if x == 3:\n",
        "    return \"Friday\"\n",
        "  if x == 4:\n",
        "    return \"Saturday\"\n",
        "  if x == 5:\n",
        "    return \"Sunday\"\n",
        "  if x == 6:\n",
        "    return \"Monday\"\n",
        "  if x == 7:\n",
        "    return \"Tuesday\""
      ],
      "execution_count": 32,
      "outputs": []
    },
    {
      "cell_type": "code",
      "metadata": {
        "id": "x5GhKMnq7T0Q",
        "colab_type": "code",
        "colab": {}
      },
      "source": [
        "#4\n",
        "def month_day_to_number (m, d):\n",
        "  if m == 2:\n",
        "    d = d + 31\n",
        "  return d"
      ],
      "execution_count": 10,
      "outputs": []
    },
    {
      "cell_type": "code",
      "metadata": {
        "id": "XcxqcpR18PMM",
        "colab_type": "code",
        "colab": {}
      },
      "source": [
        "#5\n",
        "def month_day_to_number (m, d):\n",
        "  if m > 1:\n",
        "    d = d + 31\n",
        "  if m > 2:\n",
        "    d = d + 29\n",
        "  if m > 3:\n",
        "    d = d + 31\n",
        "  if m > 4:\n",
        "    d = d + 30\n",
        "  if m > 5:\n",
        "    d = d + 31\n",
        "  if m > 6:\n",
        "    d = d + 30\n",
        "  if m > 7:\n",
        "    d = d + 31\n",
        "  if m > 8:\n",
        "    d = d + 31\n",
        "  if m > 9:\n",
        "    d = d + 30\n",
        "  if m > 10:\n",
        "    d = d + 31\n",
        "  if m > 11:\n",
        "    d = d + 30\n",
        "  return d"
      ],
      "execution_count": 21,
      "outputs": []
    },
    {
      "cell_type": "code",
      "metadata": {
        "id": "JswhY1FG-G2q",
        "colab_type": "code",
        "colab": {}
      },
      "source": [
        "#6\n",
        "def month_to_num (month):\n",
        "  month = str(month)\n",
        "  if month == \"January\":\n",
        "    return 1\n",
        "  if month == \"February\":\n",
        "    return 2\n",
        "  if month == \"March\":\n",
        "    return 3\n",
        "  if month == \"April\":\n",
        "    return 4\n",
        "  if month == \"May\":\n",
        "    return 5\n",
        "  if month == \"June\":\n",
        "    return 6\n",
        "  if month == \"July\":\n",
        "    return 7\n",
        "  if month == \"August\":\n",
        "    return 8\n",
        "  if month == \"September\":\n",
        "    return 9\n",
        "  if month == \"October\":\n",
        "    return 10\n",
        "  if month == \"November\":\n",
        "    return 11\n",
        "  if month == \"December\":\n",
        "    return 12"
      ],
      "execution_count": 19,
      "outputs": []
    },
    {
      "cell_type": "code",
      "metadata": {
        "id": "gG8C3CjF_bso",
        "colab_type": "code",
        "colab": {}
      },
      "source": [
        "#7\n",
        "def what_day_of_the_week(month, day):\n",
        "  monthnum = month_to_num(month)\n",
        "  num = month_day_to_number(monthnum, day)\n",
        "  return str(number_to_day(num))"
      ],
      "execution_count": null,
      "outputs": []
    },
    {
      "cell_type": "code",
      "metadata": {
        "id": "ayWzKGqUXc9N",
        "colab_type": "code",
        "colab": {
          "base_uri": "https://localhost:8080/",
          "height": 72
        },
        "outputId": "e3555a50-461c-432a-9ff6-9b95109c1a36"
      },
      "source": [
        "#This should print \"Monday\"\n",
        "print(\"September 21st, 2020 is a\", what_day_of_the_week(\"September\", 21))\n",
        "\n",
        "#This should print \"Saturday\"\n",
        "print(\"October 31st, 2020 is a\", what_day_of_the_week(\"October\", 31))\n",
        "\n",
        "#This should print \"Thursday\"\n",
        "print(\"November 26th, 2020 is a\", what_day_of_the_week(\"November\", 26))"
      ],
      "execution_count": 43,
      "outputs": [
        {
          "output_type": "stream",
          "text": [
            "September 21st, 2020 is a Monday\n",
            "October 31st, 2020 is a Saturday\n",
            "November 26th, 2020 is a Thursday\n"
          ],
          "name": "stdout"
        }
      ]
    }
  ]
}