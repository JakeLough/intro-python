{
  "nbformat": 4,
  "nbformat_minor": 0,
  "metadata": {
    "colab": {
      "name": "Final Project",
      "provenance": [],
      "authorship_tag": "ABX9TyOJK/PpYFjhCSoWu7IBJm7m",
      "include_colab_link": true
    },
    "kernelspec": {
      "name": "python3",
      "display_name": "Python 3"
    }
  },
  "cells": [
    {
      "cell_type": "markdown",
      "metadata": {
        "id": "view-in-github",
        "colab_type": "text"
      },
      "source": [
        "<a href=\"https://colab.research.google.com/github/JakeLough/intro-python/blob/master/Final_Project.ipynb\" target=\"_parent\"><img src=\"https://colab.research.google.com/assets/colab-badge.svg\" alt=\"Open In Colab\"/></a>"
      ]
    },
    {
      "cell_type": "code",
      "metadata": {
        "id": "3OygQEfAJlbt"
      },
      "source": [
        "!pip install -q praw\n",
        "import praw"
      ],
      "execution_count": null,
      "outputs": []
    },
    {
      "cell_type": "code",
      "metadata": {
        "colab": {
          "base_uri": "https://localhost:8080/"
        },
        "id": "zR1uqvz7gNek",
        "outputId": "bebc71a3-0c99-4f85-b6ce-26e416a8e60e"
      },
      "source": [
        "import praw\n",
        "\n",
        "reddit = praw.Reddit( client_id=\"f2Vk50qzGXHk2g\", \n",
        "                      client_secret=\"z00N7V1BCBM4p8nOC3FKNMJ3zcIJkA\", \n",
        "                      user_agent=\"NCF intro Python - http://www.github.com/mlepinski/Python-Worksheets\" )\n",
        "\n",
        "cats = reddit.subreddit(\"catswithjobs\")\n",
        "turts = reddit.subreddit(\"turtleswithjobs\")\n",
        "\n",
        "targetword = input(\"What word would you like to search for?\").lower()\n",
        "farback = input(\"How far back do you want to look? ( hour / day / week / month / year / all )\").lower()\n",
        "posts = int(input(\"How many posts would you like to search?\"))\n",
        "catcount = 0\n",
        "turtcount = 0\n",
        "\n",
        "catwords = 0\n",
        "turtwords = 0\n",
        "\n",
        "for submission in cats.top(time_filter= farback , limit=posts):\n",
        "\n",
        "  submission.comments.replace_more(limit=None)\n",
        "  for comment in submission.comments.list():\n",
        "\n",
        "    check = comment.body\n",
        "    check = check.lower()\n",
        "    check = check.replace(\".\", \"\")\n",
        "    check = check.replace(\",\", \"\")\n",
        "    check = check.replace(\";\", \"\")\n",
        "    check = check.replace(\":\", \"\")\n",
        "\n",
        "    checklist = check.split()\n",
        "    for word in checklist:\n",
        "      catwords = catwords + 1\n",
        "      if word == targetword:\n",
        "        catcount = catcount + 1\n",
        "\n",
        "for submission in turts.top(time_filter = farback , limit=posts):\n",
        "\n",
        "  submission.comments.replace_more(limit=None)\n",
        "  for comment in submission.comments.list():\n",
        "\n",
        "    check = comment.body\n",
        "    check = check.lower()\n",
        "    check = check.replace(\".\", \"\")\n",
        "    check = check.replace(\",\", \"\")\n",
        "    check = check.replace(\";\", \"\")\n",
        "    check = check.replace(\":\", \"\")\n",
        "\n",
        "    checklist = check.split()\n",
        "    for word in checklist:\n",
        "      turtwords = turtwords + 1\n",
        "      if word == targetword:\n",
        "        turtcount = turtcount + 1\n",
        "\n",
        "catratio = catcount / catwords\n",
        "turtratio = turtcount / turtwords\n",
        "\n",
        "if catratio > turtratio:\n",
        "  print(\"Your word shows up more in comments about cats than comments about turtles, relative to total words used\")\n",
        "if turtratio > catratio:\n",
        "  print(\"Your word shows up more in comments about turtles than comments about cats, relative to total words used\")\n",
        "if catratio == turtratio:\n",
        "  print(\"Your word shows up in comments about cats and turtles at the same rate\")\n",
        "\n",
        "print(\"Your word was used to describe cats\", catcount, \"times, and turtles\", turtcount, \"times.\")"
      ],
      "execution_count": 60,
      "outputs": [
        {
          "output_type": "stream",
          "text": [
            "What word would you like to search for?cute\n",
            "How far back do you want to look? ( hour / day / week / month / year / all )all\n",
            "How many posts would you like to search?10\n",
            "Your word shows up more in comments about cats than comments about turtles, relative to total words used\n",
            "Your was used to describe cats 16 times, and turtles 0 times.\n"
          ],
          "name": "stdout"
        }
      ]
    }
  ]
}