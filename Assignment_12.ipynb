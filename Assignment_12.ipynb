{
  "nbformat": 4,
  "nbformat_minor": 0,
  "metadata": {
    "colab": {
      "name": "Assignment 12",
      "provenance": [],
      "authorship_tag": "ABX9TyPbiHMqxl/NjAJbQBt9cnuR",
      "include_colab_link": true
    },
    "kernelspec": {
      "name": "python3",
      "display_name": "Python 3"
    }
  },
  "cells": [
    {
      "cell_type": "markdown",
      "metadata": {
        "id": "view-in-github",
        "colab_type": "text"
      },
      "source": [
        "<a href=\"https://colab.research.google.com/github/JakeLough/intro-python/blob/master/Assignment_12.ipynb\" target=\"_parent\"><img src=\"https://colab.research.google.com/assets/colab-badge.svg\" alt=\"Open In Colab\"/></a>"
      ]
    },
    {
      "cell_type": "code",
      "metadata": {
        "id": "e0JtQQzcLs2b"
      },
      "source": [
        "#1\n",
        "\n",
        "import pandas\n",
        "\n",
        "file_name = \"https://raw.githubusercontent.com/mlepinski/Python-Worksheets/master/states.csv\"\n",
        "state_data = pandas.read_csv(file_name)\n",
        "\n",
        "pop_list = []\n",
        "for num in state_data[\"Pop\"]:\n",
        "  pop_list.append(int(num))\n",
        "\n",
        "pop_list.sort()\n",
        "\n",
        "median = pop_list[25]\n",
        "\n",
        "for (row_num, row) in state_data.iterrows():\n",
        "  if int(row[\"Pop\"]) == median:\n",
        "    print(\"The state with the median population is\", row[\"Name\"], \"with a population of\", row[\"Pop\"])"
      ],
      "execution_count": null,
      "outputs": []
    },
    {
      "cell_type": "code",
      "metadata": {
        "id": "1w2hGddrSnHs"
      },
      "source": [
        "#2\n",
        "\n",
        "import pandas\n",
        "\n",
        "file_name = \"https://raw.githubusercontent.com/mlepinski/Python-Worksheets/master/states.csv\"\n",
        "state_data = pandas.read_csv(file_name)\n",
        "\n",
        "count = 0\n",
        "for name in state_data[\"Name\"]:\n",
        "  if name[0] == \"M\":\n",
        "    count = count+1\n",
        "\n",
        "print(count, \"states begin with the letter M\")"
      ],
      "execution_count": null,
      "outputs": []
    },
    {
      "cell_type": "code",
      "metadata": {
        "id": "DkVDtJkJTJZr"
      },
      "source": [
        "#3\n",
        "\n",
        "import pandas\n",
        "\n",
        "file_name = \"https://raw.githubusercontent.com/mlepinski/Python-Worksheets/master/states.csv\"\n",
        "state_data = pandas.read_csv(file_name)\n",
        "\n",
        "state_data[\"Density\"] = state_data[\"Pop\"] / state_data[\"Area\"]\n",
        "\n",
        "print(state_data.head())"
      ],
      "execution_count": null,
      "outputs": []
    },
    {
      "cell_type": "code",
      "metadata": {
        "id": "4zYY-kJqTv1y"
      },
      "source": [
        "#4\n",
        "\n",
        "import pandas\n",
        "\n",
        "file_name = \"https://raw.githubusercontent.com/mlepinski/Python-Worksheets/master/states.csv\"\n",
        "state_data = pandas.read_csv(file_name)\n",
        "\n",
        "state_data[\"Density\"] = state_data[\"Pop\"] / state_data[\"Area\"]\n",
        "\n",
        "highest = state_data[ state_data[\"Density\"] == state_data[\"Density\"].max()]\n",
        "\n",
        "print(\"The state with the highest population density is:\")\n",
        "print(highest)\n",
        "\n",
        "lowest = state_data[ state_data[\"Density\"] == state_data[\"Density\"].min()]\n",
        "\n",
        "print(\"The state with the lowest population density is:\")\n",
        "print(lowest)\n",
        "\n",
        "dens_list = []\n",
        "for num in state_data[\"Density\"]:\n",
        "  dens_list.append(num)\n",
        "\n",
        "dens_list.sort()\n",
        "\n",
        "median = dens_list[25]\n",
        "\n",
        "for (row_num, row) in state_data.iterrows():\n",
        "  if row[\"Density\"] == median:\n",
        "    print(\"The state with the median population density is\", row[\"Name\"], \"with a population density of\", row[\"Density\"], \"people per square mile.\")"
      ],
      "execution_count": null,
      "outputs": []
    }
  ]
}