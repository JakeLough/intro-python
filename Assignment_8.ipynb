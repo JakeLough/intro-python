{
  "nbformat": 4,
  "nbformat_minor": 0,
  "metadata": {
    "colab": {
      "name": "Assignment 8",
      "provenance": [],
      "collapsed_sections": [],
      "authorship_tag": "ABX9TyMNjHmh+ndCJj58uo/GsqRo",
      "include_colab_link": true
    },
    "kernelspec": {
      "name": "python3",
      "display_name": "Python 3"
    }
  },
  "cells": [
    {
      "cell_type": "markdown",
      "metadata": {
        "id": "view-in-github",
        "colab_type": "text"
      },
      "source": [
        "<a href=\"https://colab.research.google.com/github/JakeLough/intro-python/blob/master/Assignment_8.ipynb\" target=\"_parent\"><img src=\"https://colab.research.google.com/assets/colab-badge.svg\" alt=\"Open In Colab\"/></a>"
      ]
    },
    {
      "cell_type": "code",
      "metadata": {
        "id": "EJ_SfhIyvO3G"
      },
      "source": [
        "#0\n",
        "def choose_word():\n",
        "  return \"balloon\""
      ],
      "execution_count": 1,
      "outputs": []
    },
    {
      "cell_type": "code",
      "metadata": {
        "id": "HhEmEPX9xboK"
      },
      "source": [
        "def print_body(number):\n",
        "  if number == 1:\n",
        "    print(\"  ('_')  \")\n",
        "  if number == 2:\n",
        "    print(\"  ('_')  \")\n",
        "    print(\"    |    \")\n",
        "    print(\"    |    \")\n",
        "  if number == 3:\n",
        "    print(\"  ('_')  \")\n",
        "    print(\"   /|    \")\n",
        "    print(\"  / |    \")\n",
        "  if number == 4:\n",
        "    print(\"  ('_')  \")\n",
        "    print(\"   /|\\   \")\n",
        "    print(\"  / | \\  \")\n",
        "  if number == 5:\n",
        "    print(\"  ('_')  \")\n",
        "    print(\"   /|\\   \")\n",
        "    print(\"  / | \\  \")\n",
        "    print(\"   /     \")\n",
        "    print(\"  /      \")\n",
        "  if number == 6:\n",
        "    print(\"  ('_')  \")\n",
        "    print(\"   /|\\   \")\n",
        "    print(\"  / | \\  \")\n",
        "    print(\"   / \\   \")\n",
        "    print(\"  /   \\  \")"
      ],
      "execution_count": 8,
      "outputs": []
    },
    {
      "cell_type": "code",
      "metadata": {
        "id": "Clxikj2hvYhG"
      },
      "source": [
        "#1\n",
        "word = list(choose_word())\n",
        "blanks = []\n",
        "for num in range(len(word)):\n",
        "  blanks.append(\"-\")\n",
        "print(blanks)\n",
        "timeswrong = 0\n",
        "while True:\n",
        "  guess = str(input(\"Guess a Letter\"))\n",
        "#If the guess is wrong\n",
        "  if guess not in word:\n",
        "    timeswrong = timeswrong + 1\n",
        "    if timeswrong > 6:\n",
        "      print(\"You Lose\")\n",
        "      break\n",
        "    else:\n",
        "      print(\"wrong\")\n",
        "      print_body(timeswrong)\n",
        "      continue\n",
        "#If the guess is correct\n",
        "  else:\n",
        "    while guess in word:\n",
        "      place = word.index(guess)\n",
        "      blanks[place] = guess\n",
        "      word[place] = \"-\"\n",
        "    print(blanks)\n",
        "    if \"-\" not in blanks:\n",
        "      print(\"You Win!\")\n",
        "      break\n",
        "    else:\n",
        "      continue"
      ],
      "execution_count": null,
      "outputs": []
    }
  ]
}