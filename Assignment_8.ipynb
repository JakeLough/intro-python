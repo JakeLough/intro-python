{
  "nbformat": 4,
  "nbformat_minor": 0,
  "metadata": {
    "colab": {
      "name": "Assignment 8",
      "provenance": [],
      "collapsed_sections": [],
      "authorship_tag": "ABX9TyN2ceSy4RRoHkSGYm0bIZXv",
      "include_colab_link": true
    },
    "kernelspec": {
      "name": "python3",
      "display_name": "Python 3"
    }
  },
  "cells": [
    {
      "cell_type": "markdown",
      "metadata": {
        "id": "view-in-github",
        "colab_type": "text"
      },
      "source": [
        "<a href=\"https://colab.research.google.com/github/JakeLough/intro-python/blob/master/Assignment_8.ipynb\" target=\"_parent\"><img src=\"https://colab.research.google.com/assets/colab-badge.svg\" alt=\"Open In Colab\"/></a>"
      ]
    },
    {
      "cell_type": "code",
      "metadata": {
        "id": "EJ_SfhIyvO3G"
      },
      "source": [
        "#Getting the word\n",
        "\n",
        "import urllib.request\n",
        "import random\n",
        "\n",
        "def choose_word():\n",
        "  file_name = \"https://raw.githubusercontent.com/mlepinski/Python-Worksheets/master/coolWords.txt\"\n",
        "  word_file = urllib.request.urlopen(file_name)\n",
        "  word_string = word_file.read()\n",
        "  word_string = word_string.decode(\"utf-8\")\n",
        "  word_list = word_string.split(\"\\n\")\n",
        "  word = random.choice(word_list)\n",
        "  word = word.lower()\n",
        "  return word\n",
        "print(choose_word())"
      ],
      "execution_count": null,
      "outputs": []
    },
    {
      "cell_type": "code",
      "metadata": {
        "id": "cFcLdYl1hoLD"
      },
      "source": [
        "#for checking valid guesses\n",
        "a = \"qwertyuioplkjhgfdsazxcvbnm\"\n",
        "realletters = list(a)"
      ],
      "execution_count": 31,
      "outputs": []
    },
    {
      "cell_type": "code",
      "metadata": {
        "id": "HhEmEPX9xboK"
      },
      "source": [
        "#the ascii art\n",
        "def print_body(number):\n",
        "  if number == 1:\n",
        "    print(\"  ('_')  \")\n",
        "  if number == 2:\n",
        "    print(\"  ('_')  \")\n",
        "    print(\"    |    \")\n",
        "    print(\"    |    \")\n",
        "  if number == 3:\n",
        "    print(\"  ('_')  \")\n",
        "    print(\"   /|    \")\n",
        "    print(\"  / |    \")\n",
        "  if number == 4:\n",
        "    print(\"  ('_')  \")\n",
        "    print(\"   /|\\   \")\n",
        "    print(\"  / | \\  \")\n",
        "  if number == 5:\n",
        "    print(\"  ('_')  \")\n",
        "    print(\"   /|\\   \")\n",
        "    print(\"  / | \\  \")\n",
        "    print(\"   /     \")\n",
        "    print(\"  /      \")\n",
        "  if number == 6:\n",
        "    print(\"  ('_')  \")\n",
        "    print(\"   /|\\   \")\n",
        "    print(\"  / | \\  \")\n",
        "    print(\"   / \\   \")\n",
        "    print(\"  /   \\  \")\n",
        "  if number == 7:\n",
        "    print(\"  (X_X)  \")\n",
        "    print(\"   /|\\   \")\n",
        "    print(\"  / | \\  \")\n",
        "    print(\"   / \\   \")\n",
        "    print(\"  /   \\  \")"
      ],
      "execution_count": 32,
      "outputs": []
    },
    {
      "cell_type": "code",
      "metadata": {
        "id": "Clxikj2hvYhG"
      },
      "source": [
        "#The Game Itself\n",
        "orig_word = choose_word()\n",
        "word = list(orig_word)\n",
        "blanks = []\n",
        "badletters = []\n",
        "\n",
        "for num in range(len(word)):\n",
        "  blanks.append(\"-\")\n",
        "\n",
        "print(\"Time to play Hangman!\")\n",
        "print(blanks)\n",
        "timeswrong = 0\n",
        "\n",
        "#The core game loop\n",
        "while True:\n",
        "\n",
        "  #Checks for repeat letters\n",
        "  if len(badletters) > 0:\n",
        "    print(\"You have guessed the following letters:\")\n",
        "    print(badletters)\n",
        "    print(\"Your word is:\")\n",
        "    print(blanks)\n",
        "  \n",
        "  #the guess\n",
        "  guess = str(input(\"Guess a Letter\"))\n",
        "  guess = guess.lower()\n",
        "\n",
        "  #checks for real letters\n",
        "  if guess not in realletters:\n",
        "    print(\"That is not a letter\")\n",
        "    continue\n",
        "\n",
        "  #checks for repeat guesses\n",
        "  if guess in badletters:\n",
        "    print(\"You have already tried that letter\")\n",
        "    \n",
        "    continue\n",
        "\n",
        "#If the guess is wrong\n",
        "  if guess not in word:\n",
        "    timeswrong = timeswrong + 1\n",
        "    badletters.append(guess)\n",
        "\n",
        "    #lose condition\n",
        "    if timeswrong > 6:\n",
        "      print_body(timeswrong)\n",
        "      print(\"You Lose...\")\n",
        "      print(\"The word was\", orig_word)\n",
        "      break\n",
        "\n",
        "    #returning to the start of the loop\n",
        "    else:\n",
        "      print_body(timeswrong)\n",
        "      print(\"Wrong\")\n",
        "      continue\n",
        "\n",
        "#If the guess is correct\n",
        "  else:\n",
        "    badletters.append(guess)\n",
        "\n",
        "    #filling in the blanks on the user side, removing the letters from the backend word\n",
        "    while guess in word:\n",
        "      place = word.index(guess)\n",
        "      blanks[place] = guess\n",
        "      word[place] = \"-\"\n",
        "\n",
        "    #victory condition\n",
        "    if \"-\" not in blanks:\n",
        "      print(\"You Win!\")\n",
        "      print(\"The word was\", orig_word)\n",
        "      break\n",
        "\n",
        "    #back to the start of the loop  \n",
        "    else:\n",
        "      print(\"Correct!\")\n",
        "      continue"
      ],
      "execution_count": null,
      "outputs": []
    }
  ]
}