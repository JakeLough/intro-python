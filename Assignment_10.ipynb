{
  "nbformat": 4,
  "nbformat_minor": 0,
  "metadata": {
    "colab": {
      "name": "Assignment 10.ipynb",
      "provenance": [],
      "authorship_tag": "ABX9TyPkpJ0w2w8CeyIn5YPbGFLR",
      "include_colab_link": true
    },
    "kernelspec": {
      "name": "python3",
      "display_name": "Python 3"
    }
  },
  "cells": [
    {
      "cell_type": "markdown",
      "metadata": {
        "id": "view-in-github",
        "colab_type": "text"
      },
      "source": [
        "<a href=\"https://colab.research.google.com/github/JakeLough/intro-python/blob/master/Assignment_10.ipynb\" target=\"_parent\"><img src=\"https://colab.research.google.com/assets/colab-badge.svg\" alt=\"Open In Colab\"/></a>"
      ]
    },
    {
      "cell_type": "code",
      "metadata": {
        "id": "pAlsaMO0zBB1"
      },
      "source": [
        "#1\n",
        "import urllib.request\n",
        "\n",
        "def count_lines(file_name):\n",
        "  file = urllib.request.urlopen(file_name)\n",
        "  lines = 0\n",
        "  for line in file:\n",
        "    lines = lines + 1\n",
        "  return lines"
      ],
      "execution_count": 2,
      "outputs": []
    },
    {
      "cell_type": "code",
      "metadata": {
        "id": "aMKTmnHt1t-i"
      },
      "source": [
        "#2\n",
        "import urllib.request\n",
        "\n",
        "def lines_with_word(file_name, word):\n",
        "  file = urllib.request.urlopen(file_name)\n",
        "  num = 0\n",
        "  for line in file:\n",
        "    line = line.decode(\"utf-8\")\n",
        "    if word in line:\n",
        "      num = num + 1\n",
        "  return num"
      ],
      "execution_count": null,
      "outputs": []
    },
    {
      "cell_type": "code",
      "metadata": {
        "id": "oXH8JXDDEGFy"
      },
      "source": [
        "#3\n",
        "import urllib.request\n",
        "\n",
        "def lines_with_word(file_name, word):\n",
        "  file = urllib.request.urlopen(file_name)\n",
        "  num = 0\n",
        "  for line in file:\n",
        "    line = line.decode(\"utf-8\")\n",
        "    line = line.lower()\n",
        "    if word in line:\n",
        "      num = num + 1\n",
        "  return num"
      ],
      "execution_count": null,
      "outputs": []
    },
    {
      "cell_type": "code",
      "metadata": {
        "id": "8aj9gksVFaY8"
      },
      "source": [
        "#4\n",
        "import urllib.request\n",
        "\n",
        "def word_count(file_name, my_word):\n",
        "  file = urllib.request.urlopen(file_name)\n",
        "  file_string = file.read()\n",
        "  file_string = file_string.decode(\"utf-8\")\n",
        "  one_line = file_string.replace(\"\\n\", \" \")\n",
        "  words = one_line.split()\n",
        "  count = 0\n",
        "  my_word = my_word.lower()\n",
        "  for word in words:\n",
        "    word = word.lower()\n",
        "    if word == my_word:\n",
        "      count = count + 1\n",
        "  return count"
      ],
      "execution_count": null,
      "outputs": []
    },
    {
      "cell_type": "code",
      "metadata": {
        "id": "l5JUgatDHweo"
      },
      "source": [
        "#5\n",
        "import urllib.request\n",
        "\n",
        "def word_count(file_name, my_word):\n",
        "  file = urllib.request.urlopen(file_name)\n",
        "  file_string = file.read()\n",
        "  file_string = file_string.decode(\"utf-8\")\n",
        "  one_line = file_string.replace(\"\\n\", \" \")\n",
        "\n",
        "  one_line = one_line.replace(\".\", \"\")\n",
        "  one_line = one_line.replace(\",\", \"\")\n",
        "  one_line = one_line.replace(\";\", \"\")\n",
        "  one_line = one_line.replace(\":\", \"\")\n",
        "\n",
        "  words = one_line.split()\n",
        "  count = 0\n",
        "  my_word = my_word.lower()\n",
        "  for word in words:\n",
        "    word = word.lower()\n",
        "    if word == my_word:\n",
        "      count = count + 1\n",
        "  return count"
      ],
      "execution_count": 26,
      "outputs": []
    },
    {
      "cell_type": "code",
      "metadata": {
        "id": "wDvP2jM_Iedj"
      },
      "source": [
        "#6\n",
        "import urllib.request\n",
        "\n",
        "def word_frequency(file_name, word):\n",
        "  word_num = word_count(file_name, word)\n",
        "\n",
        "  file = urllib.request.urlopen(file_name)\n",
        "  file_string = file.read()\n",
        "  file_string = file_string.decode(\"utf-8\")\n",
        "  one_line = file_string.replace(\"\\n\", \" \")\n",
        "  words = one_line.split()\n",
        "  count = 0\n",
        "\n",
        "  for item in words:\n",
        "    count = count + 1\n",
        "\n",
        "  percent = word_num / count\n",
        "  percent = percent * 100\n",
        "  \n",
        "  return percent"
      ],
      "execution_count": null,
      "outputs": []
    }
  ]
}