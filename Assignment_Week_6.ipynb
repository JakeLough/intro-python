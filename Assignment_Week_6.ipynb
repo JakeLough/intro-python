{
  "nbformat": 4,
  "nbformat_minor": 0,
  "metadata": {
    "colab": {
      "name": "Assignment Week 6.ipynb",
      "provenance": [],
      "authorship_tag": "ABX9TyP2LmweC9aGY7hMiMDa4UEI",
      "include_colab_link": true
    },
    "kernelspec": {
      "name": "python3",
      "display_name": "Python 3"
    }
  },
  "cells": [
    {
      "cell_type": "markdown",
      "metadata": {
        "id": "view-in-github",
        "colab_type": "text"
      },
      "source": [
        "<a href=\"https://colab.research.google.com/github/JakeLough/intro-python/blob/master/Assignment_Week_6.ipynb\" target=\"_parent\"><img src=\"https://colab.research.google.com/assets/colab-badge.svg\" alt=\"Open In Colab\"/></a>"
      ]
    },
    {
      "cell_type": "code",
      "metadata": {
        "id": "_wbHEYq4knJ9",
        "outputId": "c2f58a67-0509-43c9-d487-9d2c40619a0b",
        "colab": {
          "base_uri": "https://localhost:8080/",
          "height": 35
        }
      },
      "source": [
        "#0\n",
        "hello = [\"Hello\", \"World\"]\n",
        "print(hello)"
      ],
      "execution_count": 14,
      "outputs": [
        {
          "output_type": "stream",
          "text": [
            "['Hello', 'World']\n"
          ],
          "name": "stdout"
        }
      ]
    },
    {
      "cell_type": "code",
      "metadata": {
        "id": "T51_7t9AkqqI",
        "outputId": "b3bdbdd0-a8ea-45ec-dcdb-7808d4d1cb04",
        "colab": {
          "base_uri": "https://localhost:8080/",
          "height": 108
        }
      },
      "source": [
        "#1\n",
        "foods = []\n",
        "while True:\n",
        "  new = input(\"Enter a food. Enter 'none' to stop.\")\n",
        "  if new == \"none\":\n",
        "    break\n",
        "  else:\n",
        "    foods.append(str(new))\n",
        "print(foods)"
      ],
      "execution_count": 10,
      "outputs": [
        {
          "output_type": "stream",
          "text": [
            "Enter a food. Enter 'none' to stop.eggs\n",
            "Enter a food. Enter 'none' to stop.olives\n",
            "Enter a food. Enter 'none' to stop.bread\n",
            "Enter a food. Enter 'none' to stop.none\n",
            "['eggs', 'olives', 'bread']\n"
          ],
          "name": "stdout"
        }
      ]
    },
    {
      "cell_type": "code",
      "metadata": {
        "id": "7TfVvrCMkrRe",
        "outputId": "e92db47c-35f3-4404-e6d0-2bb896732f35",
        "colab": {
          "base_uri": "https://localhost:8080/",
          "height": 53
        }
      },
      "source": [
        "#2\n",
        "gone = input(\"Enter a food to delete from the list\")\n",
        "if gone in foods:\n",
        "  foods.remove(gone)\n",
        "  print(foods)\n",
        "else:\n",
        "  print(\"That food is not on the list\")"
      ],
      "execution_count": 11,
      "outputs": [
        {
          "output_type": "stream",
          "text": [
            "Enter a food to delete from the listeggs\n",
            "['olives', 'bread']\n"
          ],
          "name": "stdout"
        }
      ]
    },
    {
      "cell_type": "code",
      "metadata": {
        "id": "qBQpmPQsksGj",
        "outputId": "46bc6ed8-9338-43cf-ad10-52966392243d",
        "colab": {
          "base_uri": "https://localhost:8080/",
          "height": 35
        }
      },
      "source": [
        "#3\n",
        "for f in foods:\n",
        "  if f == \"olives\":\n",
        "    foods.remove(f)\n",
        "  else:\n",
        "    print(f)"
      ],
      "execution_count": 13,
      "outputs": [
        {
          "output_type": "stream",
          "text": [
            "bread\n"
          ],
          "name": "stdout"
        }
      ]
    }
  ]
}