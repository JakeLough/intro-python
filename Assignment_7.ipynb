{
  "nbformat": 4,
  "nbformat_minor": 0,
  "metadata": {
    "colab": {
      "name": "Assignment 7.ipynb",
      "provenance": [],
      "authorship_tag": "ABX9TyNviOoM9pi8+ofnEumqyAhq",
      "include_colab_link": true
    },
    "kernelspec": {
      "name": "python3",
      "display_name": "Python 3"
    }
  },
  "cells": [
    {
      "cell_type": "markdown",
      "metadata": {
        "id": "view-in-github",
        "colab_type": "text"
      },
      "source": [
        "<a href=\"https://colab.research.google.com/github/JakeLough/intro-python/blob/master/Assignment_7.ipynb\" target=\"_parent\"><img src=\"https://colab.research.google.com/assets/colab-badge.svg\" alt=\"Open In Colab\"/></a>"
      ]
    },
    {
      "cell_type": "code",
      "metadata": {
        "id": "Dd8XNHGN1v6h",
        "outputId": "f1f1f3c8-2b5e-4f5d-b5c2-399e6bb05f1a",
        "colab": {
          "base_uri": "https://localhost:8080/",
          "height": 72
        }
      },
      "source": [
        "#0\n",
        "hello = \"Hello World\"\n",
        "print(hello)\n",
        "hello = hello.upper()\n",
        "print(hello)\n",
        "hello = hello.lower()\n",
        "print(hello)"
      ],
      "execution_count": 1,
      "outputs": [
        {
          "output_type": "stream",
          "text": [
            "Hello World\n",
            "HELLO WORLD\n",
            "hello world\n"
          ],
          "name": "stdout"
        }
      ]
    },
    {
      "cell_type": "code",
      "metadata": {
        "id": "v8v4iR063BNr"
      },
      "source": [
        "#1\n",
        "def hasVowels(string):\n",
        "  string = string.lower()\n",
        "  if \"a\" in string:\n",
        "    return True\n",
        "  if \"e\" in string:\n",
        "    return True\n",
        "  if \"i\" in string:\n",
        "    return True\n",
        "  if \"o\" in string:\n",
        "    return True\n",
        "  if \"u\" in string:\n",
        "    return True\n",
        "  else:\n",
        "    return False"
      ],
      "execution_count": 11,
      "outputs": []
    },
    {
      "cell_type": "code",
      "metadata": {
        "id": "J_Q3-Ox45gGS"
      },
      "source": [
        "#2\n",
        "word = str(input(\"Please enter a word\"))\n",
        "while hasVowels(word) == False:\n",
        "  word = str(input(\"Please enter a word with vowels in it\"))"
      ],
      "execution_count": null,
      "outputs": []
    },
    {
      "cell_type": "code",
      "metadata": {
        "id": "ne6Xyp2B6O45"
      },
      "source": [
        "#3\n",
        "def countVowels(word):\n",
        "  count = 0\n",
        "  word = word.lower()\n",
        "  for letter in word:\n",
        "    if letter == \"a\" or letter == \"e\" or letter == \"i\" or letter == \"o\" or letter == \"u\":\n",
        "      count = count + 1\n",
        "  return count"
      ],
      "execution_count": 15,
      "outputs": []
    },
    {
      "cell_type": "code",
      "metadata": {
        "id": "hROxhs1O7Ast",
        "outputId": "0820e7ae-3756-45cb-d0ad-e6f363de2d30",
        "colab": {
          "base_uri": "https://localhost:8080/",
          "height": 126
        }
      },
      "source": [
        "#4\n",
        "wordlist = []\n",
        "while True:\n",
        "  new = input(\"Enter a word. Enter stop to stop.\")\n",
        "  if new.lower() == \"stop\":\n",
        "    break\n",
        "  wordlist.append(new)\n",
        "print(wordlist)"
      ],
      "execution_count": 18,
      "outputs": [
        {
          "output_type": "stream",
          "text": [
            "Enter a word. Enter stop to stop.bread\n",
            "Enter a word. Enter stop to stop.food\n",
            "Enter a word. Enter stop to stop.eggs\n",
            "Enter a word. Enter stop to stop.milk\n",
            "Enter a word. Enter stop to stop.sToP\n",
            "['bread', 'food', 'eggs', 'milk']\n"
          ],
          "name": "stdout"
        }
      ]
    },
    {
      "cell_type": "code",
      "metadata": {
        "id": "U6jKFPrv8hi-",
        "outputId": "c6c9b7a4-d852-4654-9edd-a0ff074a90b6",
        "colab": {
          "base_uri": "https://localhost:8080/",
          "height": 35
        }
      },
      "source": [
        "#5\n",
        "count = 0\n",
        "for word in wordlist:\n",
        "  count = count + countVowels(word)\n",
        "print(count)"
      ],
      "execution_count": 19,
      "outputs": [
        {
          "output_type": "stream",
          "text": [
            "6\n"
          ],
          "name": "stdout"
        }
      ]
    }
  ]
}